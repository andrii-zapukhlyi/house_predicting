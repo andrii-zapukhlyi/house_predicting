{
 "cells": [
  {
   "cell_type": "code",
   "execution_count": 202,
   "metadata": {},
   "outputs": [],
   "source": [
    "import numpy as np\n",
    "import pandas as pd\n",
    "import seaborn as sns\n",
    "import matplotlib.pyplot as plt\n",
    "from sklearn.model_selection import train_test_split\n",
    "from sklearn.preprocessing import StandardScaler\n",
    "from sklearn.preprocessing import OneHotEncoder\n",
    "from sklearn.linear_model import LinearRegression, Ridge\n",
    "from sklearn.neighbors import KNeighborsRegressor\n",
    "from sklearn.tree import DecisionTreeRegressor\n",
    "from sklearn.ensemble import RandomForestRegressor\n",
    "from xgboost import XGBRegressor\n",
    "from sklearn.metrics import r2_score, mean_absolute_error, mean_squared_error"
   ]
  },
  {
   "cell_type": "code",
   "execution_count": 203,
   "metadata": {},
   "outputs": [
    {
     "data": {
      "text/html": [
       "<div>\n",
       "<style scoped>\n",
       "    .dataframe tbody tr th:only-of-type {\n",
       "        vertical-align: middle;\n",
       "    }\n",
       "\n",
       "    .dataframe tbody tr th {\n",
       "        vertical-align: top;\n",
       "    }\n",
       "\n",
       "    .dataframe thead th {\n",
       "        text-align: right;\n",
       "    }\n",
       "</style>\n",
       "<table border=\"1\" class=\"dataframe\">\n",
       "  <thead>\n",
       "    <tr style=\"text-align: right;\">\n",
       "      <th></th>\n",
       "      <th>location</th>\n",
       "      <th>voivodship</th>\n",
       "      <th>area</th>\n",
       "      <th>ownership</th>\n",
       "      <th>rooms</th>\n",
       "      <th>floor</th>\n",
       "      <th>outdoor_space</th>\n",
       "      <th>rent</th>\n",
       "      <th>parking</th>\n",
       "      <th>heating</th>\n",
       "      <th>advertiser</th>\n",
       "      <th>construction_year</th>\n",
       "      <th>building</th>\n",
       "      <th>elevator</th>\n",
       "      <th>price</th>\n",
       "    </tr>\n",
       "  </thead>\n",
       "  <tbody>\n",
       "    <tr>\n",
       "      <th>38857</th>\n",
       "      <td>Niepołomice</td>\n",
       "      <td>małopolskie</td>\n",
       "      <td>60.00</td>\n",
       "      <td>pełna własność</td>\n",
       "      <td>3.0</td>\n",
       "      <td>0.0</td>\n",
       "      <td>ogródek, taras</td>\n",
       "      <td>0.0</td>\n",
       "      <td>1.0</td>\n",
       "      <td>gazowe</td>\n",
       "      <td>biuro nieruchomości</td>\n",
       "      <td>2018.0</td>\n",
       "      <td>blok</td>\n",
       "      <td>0.0</td>\n",
       "      <td>750000.0</td>\n",
       "    </tr>\n",
       "    <tr>\n",
       "      <th>18978</th>\n",
       "      <td>Toruń</td>\n",
       "      <td>kujawsko-pomorskie</td>\n",
       "      <td>64.00</td>\n",
       "      <td>pełna własność</td>\n",
       "      <td>3.0</td>\n",
       "      <td>1.0</td>\n",
       "      <td>balkon</td>\n",
       "      <td>690.0</td>\n",
       "      <td>0.0</td>\n",
       "      <td>NaN</td>\n",
       "      <td>biuro nieruchomości</td>\n",
       "      <td>2009.0</td>\n",
       "      <td>NaN</td>\n",
       "      <td>0.0</td>\n",
       "      <td>619000.0</td>\n",
       "    </tr>\n",
       "    <tr>\n",
       "      <th>41215</th>\n",
       "      <td>Szczecin</td>\n",
       "      <td>zachodniopomorskie</td>\n",
       "      <td>77.59</td>\n",
       "      <td>pełna własność</td>\n",
       "      <td>3.0</td>\n",
       "      <td>4.0</td>\n",
       "      <td>none</td>\n",
       "      <td>647.0</td>\n",
       "      <td>0.0</td>\n",
       "      <td>miejskie</td>\n",
       "      <td>biuro nieruchomości</td>\n",
       "      <td>1988.0</td>\n",
       "      <td>blok</td>\n",
       "      <td>0.0</td>\n",
       "      <td>475000.0</td>\n",
       "    </tr>\n",
       "    <tr>\n",
       "      <th>9133</th>\n",
       "      <td>Warszawa</td>\n",
       "      <td>mazowieckie</td>\n",
       "      <td>19.00</td>\n",
       "      <td>pełna własność</td>\n",
       "      <td>1.0</td>\n",
       "      <td>3.0</td>\n",
       "      <td>none</td>\n",
       "      <td>338.0</td>\n",
       "      <td>0.0</td>\n",
       "      <td>miejskie</td>\n",
       "      <td>biuro nieruchomości</td>\n",
       "      <td>1935.0</td>\n",
       "      <td>kamienica</td>\n",
       "      <td>0.0</td>\n",
       "      <td>480000.0</td>\n",
       "    </tr>\n",
       "    <tr>\n",
       "      <th>896</th>\n",
       "      <td>Warszawa</td>\n",
       "      <td>mazowieckie</td>\n",
       "      <td>58.90</td>\n",
       "      <td>pełna własność</td>\n",
       "      <td>2.0</td>\n",
       "      <td>0.0</td>\n",
       "      <td>ogródek</td>\n",
       "      <td>874.0</td>\n",
       "      <td>1.0</td>\n",
       "      <td>kotłownia</td>\n",
       "      <td>biuro nieruchomości</td>\n",
       "      <td>2001.0</td>\n",
       "      <td>blok</td>\n",
       "      <td>1.0</td>\n",
       "      <td>939000.0</td>\n",
       "    </tr>\n",
       "  </tbody>\n",
       "</table>\n",
       "</div>"
      ],
      "text/plain": [
       "          location          voivodship   area       ownership  rooms  floor  \\\n",
       "38857  Niepołomice         małopolskie  60.00  pełna własność    3.0    0.0   \n",
       "18978        Toruń  kujawsko-pomorskie  64.00  pełna własność    3.0    1.0   \n",
       "41215     Szczecin  zachodniopomorskie  77.59  pełna własność    3.0    4.0   \n",
       "9133      Warszawa         mazowieckie  19.00  pełna własność    1.0    3.0   \n",
       "896       Warszawa         mazowieckie  58.90  pełna własność    2.0    0.0   \n",
       "\n",
       "        outdoor_space   rent  parking    heating           advertiser  \\\n",
       "38857  ogródek, taras    0.0      1.0     gazowe  biuro nieruchomości   \n",
       "18978          balkon  690.0      0.0        NaN  biuro nieruchomości   \n",
       "41215            none  647.0      0.0   miejskie  biuro nieruchomości   \n",
       "9133             none  338.0      0.0   miejskie  biuro nieruchomości   \n",
       "896           ogródek  874.0      1.0  kotłownia  biuro nieruchomości   \n",
       "\n",
       "       construction_year   building  elevator     price  \n",
       "38857             2018.0       blok       0.0  750000.0  \n",
       "18978             2009.0        NaN       0.0  619000.0  \n",
       "41215             1988.0       blok       0.0  475000.0  \n",
       "9133              1935.0  kamienica       0.0  480000.0  \n",
       "896               2001.0       blok       1.0  939000.0  "
      ]
     },
     "execution_count": 203,
     "metadata": {},
     "output_type": "execute_result"
    }
   ],
   "source": [
    "df = pd.read_csv(\"data.csv\")\n",
    "df.sample(5, random_state=1)"
   ]
  },
  {
   "cell_type": "code",
   "execution_count": 204,
   "metadata": {},
   "outputs": [
    {
     "data": {
      "text/plain": [
       "(56934, 15)"
      ]
     },
     "execution_count": 204,
     "metadata": {},
     "output_type": "execute_result"
    }
   ],
   "source": [
    "df.shape"
   ]
  },
  {
   "cell_type": "code",
   "execution_count": 205,
   "metadata": {},
   "outputs": [
    {
     "data": {
      "text/html": [
       "<div>\n",
       "<style scoped>\n",
       "    .dataframe tbody tr th:only-of-type {\n",
       "        vertical-align: middle;\n",
       "    }\n",
       "\n",
       "    .dataframe tbody tr th {\n",
       "        vertical-align: top;\n",
       "    }\n",
       "\n",
       "    .dataframe thead th {\n",
       "        text-align: right;\n",
       "    }\n",
       "</style>\n",
       "<table border=\"1\" class=\"dataframe\">\n",
       "  <thead>\n",
       "    <tr style=\"text-align: right;\">\n",
       "      <th></th>\n",
       "      <th>area</th>\n",
       "      <th>rooms</th>\n",
       "      <th>floor</th>\n",
       "      <th>rent</th>\n",
       "      <th>parking</th>\n",
       "      <th>construction_year</th>\n",
       "      <th>elevator</th>\n",
       "      <th>price</th>\n",
       "    </tr>\n",
       "  </thead>\n",
       "  <tbody>\n",
       "    <tr>\n",
       "      <th>count</th>\n",
       "      <td>5.693400e+04</td>\n",
       "      <td>56934.000000</td>\n",
       "      <td>56104.000000</td>\n",
       "      <td>5.693400e+04</td>\n",
       "      <td>56934.000000</td>\n",
       "      <td>4.085800e+04</td>\n",
       "      <td>56934.000000</td>\n",
       "      <td>5.693400e+04</td>\n",
       "    </tr>\n",
       "    <tr>\n",
       "      <th>mean</th>\n",
       "      <td>2.427009e+02</td>\n",
       "      <td>2.603119</td>\n",
       "      <td>2.398011</td>\n",
       "      <td>4.530450e+02</td>\n",
       "      <td>0.378789</td>\n",
       "      <td>3.471760e+03</td>\n",
       "      <td>0.317051</td>\n",
       "      <td>6.635477e+05</td>\n",
       "    </tr>\n",
       "    <tr>\n",
       "      <th>std</th>\n",
       "      <td>2.246327e+04</td>\n",
       "      <td>1.010006</td>\n",
       "      <td>2.211031</td>\n",
       "      <td>6.346304e+03</td>\n",
       "      <td>0.485090</td>\n",
       "      <td>1.733440e+05</td>\n",
       "      <td>0.465332</td>\n",
       "      <td>6.810282e+05</td>\n",
       "    </tr>\n",
       "    <tr>\n",
       "      <th>min</th>\n",
       "      <td>5.040000e+00</td>\n",
       "      <td>1.000000</td>\n",
       "      <td>-1.000000</td>\n",
       "      <td>0.000000e+00</td>\n",
       "      <td>0.000000</td>\n",
       "      <td>1.000000e+00</td>\n",
       "      <td>0.000000</td>\n",
       "      <td>2.400000e+03</td>\n",
       "    </tr>\n",
       "    <tr>\n",
       "      <th>25%</th>\n",
       "      <td>4.300000e+01</td>\n",
       "      <td>2.000000</td>\n",
       "      <td>1.000000</td>\n",
       "      <td>0.000000e+00</td>\n",
       "      <td>0.000000</td>\n",
       "      <td>1.970000e+03</td>\n",
       "      <td>0.000000</td>\n",
       "      <td>3.490000e+05</td>\n",
       "    </tr>\n",
       "    <tr>\n",
       "      <th>50%</th>\n",
       "      <td>5.310000e+01</td>\n",
       "      <td>3.000000</td>\n",
       "      <td>2.000000</td>\n",
       "      <td>4.000000e+02</td>\n",
       "      <td>0.000000</td>\n",
       "      <td>1.991000e+03</td>\n",
       "      <td>0.000000</td>\n",
       "      <td>5.300000e+05</td>\n",
       "    </tr>\n",
       "    <tr>\n",
       "      <th>75%</th>\n",
       "      <td>6.732000e+01</td>\n",
       "      <td>3.000000</td>\n",
       "      <td>3.000000</td>\n",
       "      <td>6.500000e+02</td>\n",
       "      <td>1.000000</td>\n",
       "      <td>2.016000e+03</td>\n",
       "      <td>1.000000</td>\n",
       "      <td>7.700000e+05</td>\n",
       "    </tr>\n",
       "    <tr>\n",
       "      <th>max</th>\n",
       "      <td>3.777480e+06</td>\n",
       "      <td>11.000000</td>\n",
       "      <td>25.000000</td>\n",
       "      <td>1.300000e+06</td>\n",
       "      <td>1.000000</td>\n",
       "      <td>2.023202e+07</td>\n",
       "      <td>1.000000</td>\n",
       "      <td>4.300000e+07</td>\n",
       "    </tr>\n",
       "  </tbody>\n",
       "</table>\n",
       "</div>"
      ],
      "text/plain": [
       "               area         rooms         floor          rent       parking  \\\n",
       "count  5.693400e+04  56934.000000  56104.000000  5.693400e+04  56934.000000   \n",
       "mean   2.427009e+02      2.603119      2.398011  4.530450e+02      0.378789   \n",
       "std    2.246327e+04      1.010006      2.211031  6.346304e+03      0.485090   \n",
       "min    5.040000e+00      1.000000     -1.000000  0.000000e+00      0.000000   \n",
       "25%    4.300000e+01      2.000000      1.000000  0.000000e+00      0.000000   \n",
       "50%    5.310000e+01      3.000000      2.000000  4.000000e+02      0.000000   \n",
       "75%    6.732000e+01      3.000000      3.000000  6.500000e+02      1.000000   \n",
       "max    3.777480e+06     11.000000     25.000000  1.300000e+06      1.000000   \n",
       "\n",
       "       construction_year      elevator         price  \n",
       "count       4.085800e+04  56934.000000  5.693400e+04  \n",
       "mean        3.471760e+03      0.317051  6.635477e+05  \n",
       "std         1.733440e+05      0.465332  6.810282e+05  \n",
       "min         1.000000e+00      0.000000  2.400000e+03  \n",
       "25%         1.970000e+03      0.000000  3.490000e+05  \n",
       "50%         1.991000e+03      0.000000  5.300000e+05  \n",
       "75%         2.016000e+03      1.000000  7.700000e+05  \n",
       "max         2.023202e+07      1.000000  4.300000e+07  "
      ]
     },
     "execution_count": 205,
     "metadata": {},
     "output_type": "execute_result"
    }
   ],
   "source": [
    "df.describe()"
   ]
  },
  {
   "cell_type": "code",
   "execution_count": 206,
   "metadata": {},
   "outputs": [
    {
     "data": {
      "text/html": [
       "<div>\n",
       "<style scoped>\n",
       "    .dataframe tbody tr th:only-of-type {\n",
       "        vertical-align: middle;\n",
       "    }\n",
       "\n",
       "    .dataframe tbody tr th {\n",
       "        vertical-align: top;\n",
       "    }\n",
       "\n",
       "    .dataframe thead th {\n",
       "        text-align: right;\n",
       "    }\n",
       "</style>\n",
       "<table border=\"1\" class=\"dataframe\">\n",
       "  <thead>\n",
       "    <tr style=\"text-align: right;\">\n",
       "      <th></th>\n",
       "      <th>Data Type</th>\n",
       "      <th>Missing Values count</th>\n",
       "      <th>Missing Values %</th>\n",
       "    </tr>\n",
       "  </thead>\n",
       "  <tbody>\n",
       "    <tr>\n",
       "      <th>construction_year</th>\n",
       "      <td>float64</td>\n",
       "      <td>16076</td>\n",
       "      <td>28.24</td>\n",
       "    </tr>\n",
       "    <tr>\n",
       "      <th>ownership</th>\n",
       "      <td>object</td>\n",
       "      <td>13271</td>\n",
       "      <td>23.31</td>\n",
       "    </tr>\n",
       "    <tr>\n",
       "      <th>heating</th>\n",
       "      <td>object</td>\n",
       "      <td>10376</td>\n",
       "      <td>18.22</td>\n",
       "    </tr>\n",
       "    <tr>\n",
       "      <th>building</th>\n",
       "      <td>object</td>\n",
       "      <td>8097</td>\n",
       "      <td>14.22</td>\n",
       "    </tr>\n",
       "    <tr>\n",
       "      <th>floor</th>\n",
       "      <td>float64</td>\n",
       "      <td>830</td>\n",
       "      <td>1.46</td>\n",
       "    </tr>\n",
       "    <tr>\n",
       "      <th>location</th>\n",
       "      <td>object</td>\n",
       "      <td>25</td>\n",
       "      <td>0.04</td>\n",
       "    </tr>\n",
       "    <tr>\n",
       "      <th>voivodship</th>\n",
       "      <td>object</td>\n",
       "      <td>22</td>\n",
       "      <td>0.04</td>\n",
       "    </tr>\n",
       "    <tr>\n",
       "      <th>area</th>\n",
       "      <td>float64</td>\n",
       "      <td>0</td>\n",
       "      <td>0.00</td>\n",
       "    </tr>\n",
       "    <tr>\n",
       "      <th>rooms</th>\n",
       "      <td>float64</td>\n",
       "      <td>0</td>\n",
       "      <td>0.00</td>\n",
       "    </tr>\n",
       "    <tr>\n",
       "      <th>outdoor_space</th>\n",
       "      <td>object</td>\n",
       "      <td>0</td>\n",
       "      <td>0.00</td>\n",
       "    </tr>\n",
       "    <tr>\n",
       "      <th>rent</th>\n",
       "      <td>float64</td>\n",
       "      <td>0</td>\n",
       "      <td>0.00</td>\n",
       "    </tr>\n",
       "    <tr>\n",
       "      <th>parking</th>\n",
       "      <td>float64</td>\n",
       "      <td>0</td>\n",
       "      <td>0.00</td>\n",
       "    </tr>\n",
       "    <tr>\n",
       "      <th>advertiser</th>\n",
       "      <td>object</td>\n",
       "      <td>0</td>\n",
       "      <td>0.00</td>\n",
       "    </tr>\n",
       "    <tr>\n",
       "      <th>elevator</th>\n",
       "      <td>float64</td>\n",
       "      <td>0</td>\n",
       "      <td>0.00</td>\n",
       "    </tr>\n",
       "    <tr>\n",
       "      <th>price</th>\n",
       "      <td>float64</td>\n",
       "      <td>0</td>\n",
       "      <td>0.00</td>\n",
       "    </tr>\n",
       "  </tbody>\n",
       "</table>\n",
       "</div>"
      ],
      "text/plain": [
       "                  Data Type  Missing Values count  Missing Values %\n",
       "construction_year   float64                 16076             28.24\n",
       "ownership            object                 13271             23.31\n",
       "heating              object                 10376             18.22\n",
       "building             object                  8097             14.22\n",
       "floor               float64                   830              1.46\n",
       "location             object                    25              0.04\n",
       "voivodship           object                    22              0.04\n",
       "area                float64                     0              0.00\n",
       "rooms               float64                     0              0.00\n",
       "outdoor_space        object                     0              0.00\n",
       "rent                float64                     0              0.00\n",
       "parking             float64                     0              0.00\n",
       "advertiser           object                     0              0.00\n",
       "elevator            float64                     0              0.00\n",
       "price               float64                     0              0.00"
      ]
     },
     "execution_count": 206,
     "metadata": {},
     "output_type": "execute_result"
    }
   ],
   "source": [
    "pd.DataFrame({\n",
    "            'Data Type': df.dtypes,\n",
    "            'Missing Values count': df.isna().sum(),\n",
    "            'Missing Values %': round((df.isna().sum() / len(df) * 100),2),\n",
    "        }).sort_values(by='Missing Values %', ascending=False)"
   ]
  },
  {
   "cell_type": "code",
   "execution_count": 207,
   "metadata": {},
   "outputs": [],
   "source": [
    "num = [\"construction_year\", \"floor\", \"area\", \"rooms\", \"rent\", \"parking\", \"elevator\", \"price\"]\n",
    "categ = [col for col in df.columns if col not in num]"
   ]
  },
  {
   "cell_type": "code",
   "execution_count": 208,
   "metadata": {},
   "outputs": [
    {
     "data": {
      "image/png": "[encoded data removed]",
      "text/plain": [
       "<Figure size 640x480 with 2 Axes>"
      ]
     },
     "metadata": {},
     "output_type": "display_data"
    }
   ],
   "source": [
    "sns.heatmap(df[num].corr(), annot=True, fmt = '.2f')\n",
    "plt.show()"
   ]
  },
  {
   "cell_type": "code",
   "execution_count": 209,
   "metadata": {},
   "outputs": [],
   "source": [
    "df[categ] = df[categ].fillna('missing')\n",
    "df[[\"construction_year\"]] = df[[\"construction_year\"]].fillna(np.median(df.construction_year.dropna()))\n",
    "df[[\"floor\"]] = df[[\"floor\"]].fillna(np.median(df.floor.dropna()))"
   ]
  },
  {
   "cell_type": "code",
   "execution_count": 210,
   "metadata": {},
   "outputs": [
    {
     "data": {
      "text/plain": [
       "0"
      ]
     },
     "execution_count": 210,
     "metadata": {},
     "output_type": "execute_result"
    }
   ],
   "source": [
    "df.isna().sum().sum()"
   ]
  },
  {
   "cell_type": "code",
   "execution_count": 211,
   "metadata": {},
   "outputs": [
    {
     "name": "stdout",
     "output_type": "stream",
     "text": [
      "(56934, 15)\n",
      "(44204, 15)\n"
     ]
    }
   ],
   "source": [
    "def remove_outliers(df):\n",
    "    df_cleaned = df.copy()\n",
    "    for col in num:\n",
    "        Q1 = df_cleaned[col].quantile(0.25)\n",
    "        Q3 = df_cleaned[col].quantile(0.75)\n",
    "        IQR = Q3 - Q1\n",
    "        lower_bound = Q1 - 1.5 * IQR\n",
    "        upper_bound = Q3 + 1.5 * IQR\n",
    "        df_cleaned = df_cleaned[(df_cleaned[col] > lower_bound) & (df_cleaned[col] < upper_bound)]\n",
    "    return df_cleaned\n",
    "\n",
    "print(df.shape)\n",
    "df = remove_outliers(df)\n",
    "print(df.shape)\n"
   ]
  },
  {
   "cell_type": "code",
   "execution_count": 212,
   "metadata": {},
   "outputs": [
    {
     "data": {
      "text/html": [
       "<div>\n",
       "<style scoped>\n",
       "    .dataframe tbody tr th:only-of-type {\n",
       "        vertical-align: middle;\n",
       "    }\n",
       "\n",
       "    .dataframe tbody tr th {\n",
       "        vertical-align: top;\n",
       "    }\n",
       "\n",
       "    .dataframe thead th {\n",
       "        text-align: right;\n",
       "    }\n",
       "</style>\n",
       "<table border=\"1\" class=\"dataframe\">\n",
       "  <thead>\n",
       "    <tr style=\"text-align: right;\">\n",
       "      <th></th>\n",
       "      <th>area</th>\n",
       "      <th>rooms</th>\n",
       "      <th>floor</th>\n",
       "      <th>rent</th>\n",
       "      <th>parking</th>\n",
       "      <th>construction_year</th>\n",
       "      <th>elevator</th>\n",
       "      <th>price</th>\n",
       "    </tr>\n",
       "  </thead>\n",
       "  <tbody>\n",
       "    <tr>\n",
       "      <th>count</th>\n",
       "      <td>44204.000000</td>\n",
       "      <td>44204.000000</td>\n",
       "      <td>44204.000000</td>\n",
       "      <td>44204.000000</td>\n",
       "      <td>44204.000000</td>\n",
       "      <td>44204.000000</td>\n",
       "      <td>44204.000000</td>\n",
       "      <td>4.420400e+04</td>\n",
       "    </tr>\n",
       "    <tr>\n",
       "      <th>mean</th>\n",
       "      <td>52.788394</td>\n",
       "      <td>2.434440</td>\n",
       "      <td>1.915551</td>\n",
       "      <td>374.588885</td>\n",
       "      <td>0.360035</td>\n",
       "      <td>1991.309090</td>\n",
       "      <td>0.268935</td>\n",
       "      <td>5.265355e+05</td>\n",
       "    </tr>\n",
       "    <tr>\n",
       "      <th>std</th>\n",
       "      <td>15.978860</td>\n",
       "      <td>0.789082</td>\n",
       "      <td>1.428710</td>\n",
       "      <td>327.650434</td>\n",
       "      <td>0.480016</td>\n",
       "      <td>22.027557</td>\n",
       "      <td>0.443411</td>\n",
       "      <td>2.503542e+05</td>\n",
       "    </tr>\n",
       "    <tr>\n",
       "      <th>min</th>\n",
       "      <td>7.870000</td>\n",
       "      <td>1.000000</td>\n",
       "      <td>-1.000000</td>\n",
       "      <td>0.000000</td>\n",
       "      <td>0.000000</td>\n",
       "      <td>1928.000000</td>\n",
       "      <td>0.000000</td>\n",
       "      <td>2.400000e+03</td>\n",
       "    </tr>\n",
       "    <tr>\n",
       "      <th>25%</th>\n",
       "      <td>41.537500</td>\n",
       "      <td>2.000000</td>\n",
       "      <td>1.000000</td>\n",
       "      <td>0.000000</td>\n",
       "      <td>0.000000</td>\n",
       "      <td>1980.000000</td>\n",
       "      <td>0.000000</td>\n",
       "      <td>3.290000e+05</td>\n",
       "    </tr>\n",
       "    <tr>\n",
       "      <th>50%</th>\n",
       "      <td>51.000000</td>\n",
       "      <td>2.000000</td>\n",
       "      <td>2.000000</td>\n",
       "      <td>400.000000</td>\n",
       "      <td>0.000000</td>\n",
       "      <td>1991.000000</td>\n",
       "      <td>0.000000</td>\n",
       "      <td>4.873500e+05</td>\n",
       "    </tr>\n",
       "    <tr>\n",
       "      <th>75%</th>\n",
       "      <td>62.570000</td>\n",
       "      <td>3.000000</td>\n",
       "      <td>3.000000</td>\n",
       "      <td>610.000000</td>\n",
       "      <td>1.000000</td>\n",
       "      <td>2010.000000</td>\n",
       "      <td>1.000000</td>\n",
       "      <td>6.890000e+05</td>\n",
       "    </tr>\n",
       "    <tr>\n",
       "      <th>max</th>\n",
       "      <td>102.930000</td>\n",
       "      <td>4.000000</td>\n",
       "      <td>5.000000</td>\n",
       "      <td>1550.000000</td>\n",
       "      <td>1.000000</td>\n",
       "      <td>2026.000000</td>\n",
       "      <td>1.000000</td>\n",
       "      <td>1.288710e+06</td>\n",
       "    </tr>\n",
       "  </tbody>\n",
       "</table>\n",
       "</div>"
      ],
      "text/plain": [
       "               area         rooms         floor          rent       parking  \\\n",
       "count  44204.000000  44204.000000  44204.000000  44204.000000  44204.000000   \n",
       "mean      52.788394      2.434440      1.915551    374.588885      0.360035   \n",
       "std       15.978860      0.789082      1.428710    327.650434      0.480016   \n",
       "min        7.870000      1.000000     -1.000000      0.000000      0.000000   \n",
       "25%       41.537500      2.000000      1.000000      0.000000      0.000000   \n",
       "50%       51.000000      2.000000      2.000000    400.000000      0.000000   \n",
       "75%       62.570000      3.000000      3.000000    610.000000      1.000000   \n",
       "max      102.930000      4.000000      5.000000   1550.000000      1.000000   \n",
       "\n",
       "       construction_year      elevator         price  \n",
       "count       44204.000000  44204.000000  4.420400e+04  \n",
       "mean         1991.309090      0.268935  5.265355e+05  \n",
       "std            22.027557      0.443411  2.503542e+05  \n",
       "min          1928.000000      0.000000  2.400000e+03  \n",
       "25%          1980.000000      0.000000  3.290000e+05  \n",
       "50%          1991.000000      0.000000  4.873500e+05  \n",
       "75%          2010.000000      1.000000  6.890000e+05  \n",
       "max          2026.000000      1.000000  1.288710e+06  "
      ]
     },
     "execution_count": 212,
     "metadata": {},
     "output_type": "execute_result"
    }
   ],
   "source": [
    "df.describe()"
   ]
  },
  {
   "cell_type": "code",
   "execution_count": 213,
   "metadata": {},
   "outputs": [
    {
     "data": {
      "text/plain": [
       "(40950, 15)"
      ]
     },
     "execution_count": 213,
     "metadata": {},
     "output_type": "execute_result"
    }
   ],
   "source": [
    "df = df[df['construction_year'] < 2024]\n",
    "df = df[df['price'] < 1000000]\n",
    "df.shape"
   ]
  },
  {
   "cell_type": "code",
   "execution_count": 214,
   "metadata": {},
   "outputs": [
    {
     "name": "stdout",
     "output_type": "stream",
     "text": [
      "['Rybnik' 'Rzeszów' 'Lublin' ... 'Cieszanów' 'Mszana Dolna' 'Turobin'] \n",
      "\n",
      "['śląskie' 'podkarpackie' 'lubelskie' 'pomorskie' 'zachodniopomorskie'\n",
      " 'mazowieckie' 'dolnośląskie' 'małopolskie' 'podlaskie' 'łódzkie'\n",
      " 'lubuskie' 'kujawsko-pomorskie' 'wielkopolskie' 'warmińsko-mazurskie'\n",
      " 'opolskie' 'świętokrzyskie' 'missing'] \n",
      "\n",
      "['spółdzielcze wł. prawo do lokalu' 'pełna własność' 'udział'\n",
      " 'użytkowanie wieczyste / dzierżawa' 'missing'] \n",
      "\n",
      "['balkon' 'none' 'ogródek' 'taras' 'ogródek, taras' 'balkon, ogródek'\n",
      " 'balkon, taras' 'balkon, ogródek, taras' 'taras, ogródek' 'taras, balkon'\n",
      " 'taras, balkon, ogródek' 'balkon, taras, ogródek'] \n",
      "\n",
      "['miejskie' 'inne' 'gazowe' 'elektryczne' 'kotłownia' 'piece kaflowe'\n",
      " 'missing'] \n",
      "\n",
      "['biuro nieruchomości' 'prywatny'] \n",
      "\n",
      "['blok' 'apartamentowiec' 'kamienica' 'dom wolnostojący' 'szeregowiec'\n",
      " 'loft' 'plomba' 'missing'] \n",
      "\n"
     ]
    }
   ],
   "source": [
    "for col in categ:\n",
    "    print(df[col].unique(), \"\\n\")"
   ]
  },
  {
   "cell_type": "code",
   "execution_count": 215,
   "metadata": {},
   "outputs": [],
   "source": [
    "def outdoor_space_formating(space):\n",
    "    if space == 'none':\n",
    "        return 'none'\n",
    "    return ', '.join(sorted(space.split(', ')))\n",
    "\n",
    "df['outdoor_space'] = df['outdoor_space'].apply(outdoor_space_formating)"
   ]
  },
  {
   "cell_type": "code",
   "execution_count": 216,
   "metadata": {},
   "outputs": [
    {
     "name": "stdout",
     "output_type": "stream",
     "text": [
      "0\n"
     ]
    }
   ],
   "source": [
    "print(df.duplicated().sum())"
   ]
  },
  {
   "cell_type": "code",
   "execution_count": 217,
   "metadata": {},
   "outputs": [
    {
     "data": {
      "image/png": "[encoded data removed]",
      "text/plain": [
       "<Figure size 640x480 with 8 Axes>"
      ]
     },
     "metadata": {},
     "output_type": "display_data"
    }
   ],
   "source": [
    "for i, col in enumerate(num, 1):\n",
    "    plt.subplot(3, 3, i) \n",
    "    sns.boxplot(y=df[col])\n",
    "    plt.title(col)\n",
    "\n",
    "plt.tight_layout()\n",
    "plt.show()"
   ]
  },
  {
   "cell_type": "code",
   "execution_count": 218,
   "metadata": {},
   "outputs": [],
   "source": [
    "X = df.drop(columns=['price'])\n",
    "y = df['price']\n",
    "num.remove(\"price\")\n",
    "\n",
    "X_train, X_temp, y_train, y_temp = train_test_split(X, y, test_size=0.4, random_state=0)\n",
    "X_val, X_test, y_val, y_test = train_test_split(X_temp, y_temp, test_size=0.5, random_state=0)"
   ]
  },
  {
   "cell_type": "code",
   "execution_count": 219,
   "metadata": {},
   "outputs": [
    {
     "name": "stdout",
     "output_type": "stream",
     "text": [
      "(24570, 14) (8190, 14) (8190, 14)\n"
     ]
    }
   ],
   "source": [
    "print(X_train.shape, X_val.shape, X_test.shape)"
   ]
  },
  {
   "cell_type": "code",
   "execution_count": 220,
   "metadata": {},
   "outputs": [
    {
     "name": "stderr",
     "output_type": "stream",
     "text": [
      "/Users/andrik/anaconda3/lib/python3.10/site-packages/sklearn/preprocessing/_encoders.py:242: UserWarning: Found unknown categories in columns [0] during transform. These unknown categories will be encoded as all zeros\n",
      "  warnings.warn(\n",
      "/Users/andrik/anaconda3/lib/python3.10/site-packages/sklearn/preprocessing/_encoders.py:242: UserWarning: Found unknown categories in columns [0] during transform. These unknown categories will be encoded as all zeros\n",
      "  warnings.warn(\n"
     ]
    }
   ],
   "source": [
    "encoder = OneHotEncoder(drop='first', sparse_output=False, handle_unknown='ignore')\n",
    "encoder.fit(X_train[categ])\n",
    "\n",
    "X_train_encoded = pd.DataFrame(encoder.transform(X_train[categ]), columns=encoder.get_feature_names_out(categ))\n",
    "X_val_encoded = pd.DataFrame(encoder.transform(X_val[categ]), columns=encoder.get_feature_names_out(categ))\n",
    "X_test_encoded = pd.DataFrame(encoder.transform(X_test[categ]), columns=encoder.get_feature_names_out(categ))\n",
    "\n",
    "X_train = pd.concat([X_train.drop(categ, axis=1).reset_index(drop=True), X_train_encoded], axis=1)\n",
    "X_val = pd.concat([X_val.drop(categ, axis=1).reset_index(drop=True), X_val_encoded], axis=1)\n",
    "X_test = pd.concat([X_test.drop(categ, axis=1).reset_index(drop=True), X_test_encoded], axis=1)\n"
   ]
  },
  {
   "cell_type": "code",
   "execution_count": 221,
   "metadata": {},
   "outputs": [],
   "source": [
    "scaler = StandardScaler()\n",
    "\n",
    "X_train[num] = scaler.fit_transform(X_train[num])\n",
    "X_val[num] = scaler.transform(X_val[num])\n",
    "X_test[num] = scaler.transform(X_test[num])"
   ]
  },
  {
   "cell_type": "code",
   "execution_count": 222,
   "metadata": {},
   "outputs": [],
   "source": [
    "X_train = X_train.astype({col: 'float64' for col in X_train.select_dtypes('bool').columns})\n",
    "X_val = X_val.astype({col: 'float64' for col in X_val.select_dtypes('bool').columns})\n",
    "X_test = X_test.astype({col: 'float64' for col in X_test.select_dtypes('bool').columns})"
   ]
  },
  {
   "cell_type": "code",
   "execution_count": 223,
   "metadata": {},
   "outputs": [],
   "source": [
    "def model_results(y_pred, y_pred_train):    \n",
    "    r2_val = round(r2_score(y_val, y_pred), 4)\n",
    "    rmse_val = round(np.sqrt(mean_squared_error(y_val, y_pred)))\n",
    "    mae_val = round(mean_absolute_error(y_val, y_pred))\n",
    "    \n",
    "    r2_train = round(r2_score(y_train, y_pred_train), 4)\n",
    "    rmse_train = round(np.sqrt(mean_squared_error(y_train, y_pred_train)))\n",
    "    mae_train = round(mean_absolute_error(y_train, y_pred_train))\n",
    "    \n",
    "    if r2_val < 0:\n",
    "        r2_val = 0\n",
    "        rmse_val = 900000\n",
    "        mae_val = 10000000\n",
    "\n",
    "    scores.loc[len(scores.index)] = [r2_val, rmse_val, mae_val, r2_train, rmse_train, mae_train]\n",
    "    return\n",
    "\n",
    "scores = pd.DataFrame({\n",
    "    \"R^2_val\": [],\n",
    "    \"RMSE_val\": [],\n",
    "    \"MAE_val\": [],\n",
    "    \"R^2_train\": [],\n",
    "    \"RMSE_train\": [],\n",
    "    \"MAE_train\": []\n",
    "})\n"
   ]
  },
  {
   "cell_type": "code",
   "execution_count": 224,
   "metadata": {},
   "outputs": [],
   "source": [
    "model_lr = LinearRegression()\n",
    "\n",
    "model_lr.fit(X_train, y_train)\n",
    "y_pred = model_lr.predict(X_val)\n",
    "y_pred_train = model_lr.predict(X_train)\n",
    "\n",
    "model_results(y_pred, y_pred_train)"
   ]
  },
  {
   "cell_type": "code",
   "execution_count": 225,
   "metadata": {},
   "outputs": [],
   "source": [
    "model_ridge = Ridge() \n",
    "\n",
    "model_ridge.fit(X_train, y_train)\n",
    "y_pred = model_ridge.predict(X_val)\n",
    "y_pred_train = model_ridge.predict(X_train)\n",
    "\n",
    "model_results(y_pred, y_pred_train)"
   ]
  },
  {
   "cell_type": "code",
   "execution_count": 226,
   "metadata": {},
   "outputs": [],
   "source": [
    "model_KNN = KNeighborsRegressor(n_neighbors=5)  \n",
    "\n",
    "model_KNN.fit(X_train, y_train)\n",
    "y_pred = model_KNN.predict(X_val)\n",
    "y_pred_train = model_KNN.predict(X_train)\n",
    "\n",
    "model_results(y_pred, y_pred_train)"
   ]
  },
  {
   "cell_type": "code",
   "execution_count": 227,
   "metadata": {},
   "outputs": [],
   "source": [
    "model_tree = DecisionTreeRegressor(max_depth = 7)\n",
    "\n",
    "model_tree.fit(X_train, y_train)\n",
    "y_pred = model_tree.predict(X_val)\n",
    "y_pred_train = model_tree.predict(X_train)\n",
    "\n",
    "model_results(y_pred, y_pred_train)"
   ]
  },
  {
   "cell_type": "code",
   "execution_count": 228,
   "metadata": {},
   "outputs": [],
   "source": [
    "model_rf = RandomForestRegressor()\n",
    "\n",
    "model_rf.fit(X_train, y_train)\n",
    "y_pred = model_rf.predict(X_val)\n",
    "y_pred_train = model_rf.predict(X_train)\n",
    "\n",
    "model_results(y_pred, y_pred_train)"
   ]
  },
  {
   "cell_type": "code",
   "execution_count": 229,
   "metadata": {},
   "outputs": [],
   "source": [
    "model_xgb = XGBRegressor()\n",
    "\n",
    "model_xgb.fit(X_train, y_train)\n",
    "y_pred = model_xgb.predict(X_val)\n",
    "y_pred_train = model_xgb.predict(X_train)\n",
    "\n",
    "model_results(y_pred, y_pred_train)"
   ]
  },
  {
   "cell_type": "code",
   "execution_count": 230,
   "metadata": {},
   "outputs": [
    {
     "name": "stdout",
     "output_type": "stream",
     "text": [
      "Epoch 1/5\n"
     ]
    },
    {
     "name": "stderr",
     "output_type": "stream",
     "text": [
      "2024-10-23 18:20:14.219681: E tensorflow/core/grappler/optimizers/meta_optimizer.cc:961] PluggableGraphOptimizer failed: INVALID_ARGUMENT: Failed to deserialize the `graph_buf`.\n"
     ]
    },
    {
     "name": "stdout",
     "output_type": "stream",
     "text": [
      "\u001b[1m768/768\u001b[0m \u001b[32m━━━━━━━━━━━━━━━━━━━━\u001b[0m\u001b[37m\u001b[0m \u001b[1m38s\u001b[0m 47ms/step - loss: 53699416064.0000\n",
      "Epoch 2/5\n",
      "\u001b[1m768/768\u001b[0m \u001b[32m━━━━━━━━━━━━━━━━━━━━\u001b[0m\u001b[37m\u001b[0m \u001b[1m41s\u001b[0m 53ms/step - loss: 8753678336.0000\n",
      "Epoch 3/5\n",
      "\u001b[1m768/768\u001b[0m \u001b[32m━━━━━━━━━━━━━━━━━━━━\u001b[0m\u001b[37m\u001b[0m \u001b[1m37s\u001b[0m 48ms/step - loss: 7739335680.0000\n",
      "Epoch 4/5\n",
      "\u001b[1m768/768\u001b[0m \u001b[32m━━━━━━━━━━━━━━━━━━━━\u001b[0m\u001b[37m\u001b[0m \u001b[1m43s\u001b[0m 55ms/step - loss: 7540748288.0000\n",
      "Epoch 5/5\n",
      "\u001b[1m768/768\u001b[0m \u001b[32m━━━━━━━━━━━━━━━━━━━━\u001b[0m\u001b[37m\u001b[0m \u001b[1m38s\u001b[0m 49ms/step - loss: 7511514624.0000\n",
      "\u001b[1m 42/256\u001b[0m \u001b[32m━━━\u001b[0m\u001b[37m━━━━━━━━━━━━━━━━━\u001b[0m \u001b[1m0s\u001b[0m 2ms/step  "
     ]
    },
    {
     "name": "stderr",
     "output_type": "stream",
     "text": [
      "2024-10-23 18:23:30.923722: E tensorflow/core/grappler/optimizers/meta_optimizer.cc:961] PluggableGraphOptimizer failed: INVALID_ARGUMENT: Failed to deserialize the `graph_buf`.\n"
     ]
    },
    {
     "name": "stdout",
     "output_type": "stream",
     "text": [
      "\u001b[1m256/256\u001b[0m \u001b[32m━━━━━━━━━━━━━━━━━━━━\u001b[0m\u001b[37m\u001b[0m \u001b[1m1s\u001b[0m 4ms/step\n",
      "\u001b[1m768/768\u001b[0m \u001b[32m━━━━━━━━━━━━━━━━━━━━\u001b[0m\u001b[37m\u001b[0m \u001b[1m2s\u001b[0m 2ms/step\n"
     ]
    }
   ],
   "source": [
    "from keras.layers import InputLayer, Dense\n",
    "from keras.models import Sequential\n",
    "from keras.optimizers import Adam\n",
    "\n",
    "\n",
    "model_nn = Sequential([\n",
    "    InputLayer((X_train.shape[1],)),\n",
    "    Dense(2048, \"relu\"),\n",
    "    Dense(2048, \"relu\"),\n",
    "    Dense(2048, \"relu\"),\n",
    "    Dense(1024, \"relu\"),\n",
    "    Dense(1)\n",
    "])\n",
    "\n",
    "model_nn.compile(optimizer=Adam(learning_rate = 0.001), loss='mean_squared_error')\n",
    "model_nn.fit(X_train, y_train, epochs=5, batch_size=32) \n",
    "\n",
    "y_pred = model_nn.predict(X_val)\n",
    "y_pred_train = model_nn.predict(X_train)\n",
    "\n",
    "model_results(y_pred, y_pred_train)"
   ]
  },
  {
   "cell_type": "code",
   "execution_count": 231,
   "metadata": {},
   "outputs": [
    {
     "data": {
      "text/html": [
       "<div>\n",
       "<style scoped>\n",
       "    .dataframe tbody tr th:only-of-type {\n",
       "        vertical-align: middle;\n",
       "    }\n",
       "\n",
       "    .dataframe tbody tr th {\n",
       "        vertical-align: top;\n",
       "    }\n",
       "\n",
       "    .dataframe thead th {\n",
       "        text-align: right;\n",
       "    }\n",
       "</style>\n",
       "<table border=\"1\" class=\"dataframe\">\n",
       "  <thead>\n",
       "    <tr style=\"text-align: right;\">\n",
       "      <th></th>\n",
       "      <th>R^2_val</th>\n",
       "      <th>RMSE_val</th>\n",
       "      <th>MAE_val</th>\n",
       "      <th>R^2_train</th>\n",
       "      <th>RMSE_train</th>\n",
       "      <th>MAE_train</th>\n",
       "    </tr>\n",
       "  </thead>\n",
       "  <tbody>\n",
       "    <tr>\n",
       "      <th>XGBoost</th>\n",
       "      <td>0.8153</td>\n",
       "      <td>92851.0</td>\n",
       "      <td>69296.0</td>\n",
       "      <td>0.8591</td>\n",
       "      <td>80951.0</td>\n",
       "      <td>60496.0</td>\n",
       "    </tr>\n",
       "    <tr>\n",
       "      <th>NN</th>\n",
       "      <td>0.8070</td>\n",
       "      <td>94898.0</td>\n",
       "      <td>69886.0</td>\n",
       "      <td>0.8440</td>\n",
       "      <td>85182.0</td>\n",
       "      <td>61547.0</td>\n",
       "    </tr>\n",
       "    <tr>\n",
       "      <th>RandomForest</th>\n",
       "      <td>0.7981</td>\n",
       "      <td>97061.0</td>\n",
       "      <td>70379.0</td>\n",
       "      <td>0.9710</td>\n",
       "      <td>36744.0</td>\n",
       "      <td>26184.0</td>\n",
       "    </tr>\n",
       "    <tr>\n",
       "      <th>Ridge</th>\n",
       "      <td>0.7969</td>\n",
       "      <td>97349.0</td>\n",
       "      <td>73347.0</td>\n",
       "      <td>0.8099</td>\n",
       "      <td>94038.0</td>\n",
       "      <td>69862.0</td>\n",
       "    </tr>\n",
       "    <tr>\n",
       "      <th>KNN</th>\n",
       "      <td>0.6673</td>\n",
       "      <td>124613.0</td>\n",
       "      <td>93116.0</td>\n",
       "      <td>0.7791</td>\n",
       "      <td>101368.0</td>\n",
       "      <td>75025.0</td>\n",
       "    </tr>\n",
       "    <tr>\n",
       "      <th>DecisionTree</th>\n",
       "      <td>0.6250</td>\n",
       "      <td>132298.0</td>\n",
       "      <td>101179.0</td>\n",
       "      <td>0.6284</td>\n",
       "      <td>131466.0</td>\n",
       "      <td>100125.0</td>\n",
       "    </tr>\n",
       "    <tr>\n",
       "      <th>Linear</th>\n",
       "      <td>0.0000</td>\n",
       "      <td>900000.0</td>\n",
       "      <td>10000000.0</td>\n",
       "      <td>0.8123</td>\n",
       "      <td>93430.0</td>\n",
       "      <td>68995.0</td>\n",
       "    </tr>\n",
       "  </tbody>\n",
       "</table>\n",
       "</div>"
      ],
      "text/plain": [
       "              R^2_val  RMSE_val     MAE_val  R^2_train  RMSE_train  MAE_train\n",
       "XGBoost        0.8153   92851.0     69296.0     0.8591     80951.0    60496.0\n",
       "NN             0.8070   94898.0     69886.0     0.8440     85182.0    61547.0\n",
       "RandomForest   0.7981   97061.0     70379.0     0.9710     36744.0    26184.0\n",
       "Ridge          0.7969   97349.0     73347.0     0.8099     94038.0    69862.0\n",
       "KNN            0.6673  124613.0     93116.0     0.7791    101368.0    75025.0\n",
       "DecisionTree   0.6250  132298.0    101179.0     0.6284    131466.0   100125.0\n",
       "Linear         0.0000  900000.0  10000000.0     0.8123     93430.0    68995.0"
      ]
     },
     "execution_count": 231,
     "metadata": {},
     "output_type": "execute_result"
    }
   ],
   "source": [
    "scores.index = [\"Linear\", \"Ridge\", \"KNN\", \"DecisionTree\", \"RandomForest\", \"XGBoost\", \"NN\"]\n",
    "scores.sort_values(by='RMSE_val', ascending=True)"
   ]
  },
  {
   "cell_type": "code",
   "execution_count": 233,
   "metadata": {},
   "outputs": [],
   "source": [
    "model_xgb.save_model('model.json')"
   ]
  }
 ],
 "metadata": {
  "kernelspec": {
   "display_name": "base",
   "language": "python",
   "name": "python3"
  },
  "language_info": {
   "codemirror_mode": {
    "name": "ipython",
    "version": 3
   },
   "file_extension": ".py",
   "mimetype": "text/x-python",
   "name": "python",
   "nbconvert_exporter": "python",
   "pygments_lexer": "ipython3",
   "version": "3.10.15"
  }
 },
 "nbformat": 4,
 "nbformat_minor": 2
}
